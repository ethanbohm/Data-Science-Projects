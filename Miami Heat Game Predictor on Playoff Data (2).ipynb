{
 "cells": [
  {
   "cell_type": "markdown",
   "id": "12c94152-7ef5-4c8e-bf3b-da04d3cfaae8",
   "metadata": {},
   "source": [
    "# Miami Heat Playoff Game Predictor\n",
    "# (With multiple models)\n",
    "\n",
    "This workbook contains code used to create 3 seperate models. The dataset in use is an excel document that I created with real playoff data from the 2020-2023 post-season."
   ]
  },
  {
   "cell_type": "code",
   "execution_count": 29,
   "id": "13bb3ba9",
   "metadata": {},
   "outputs": [],
   "source": [
    "import pandas as pd\n",
    "import numpy as np\n",
    "import matplotlib.pyplot as plt\n",
    "import seaborn as sns\n",
    "from sklearn.decomposition import PCA\n",
    "from sklearn.feature_selection import RFE\n",
    "from sklearn.preprocessing import StandardScaler\n",
    "from sklearn.ensemble import RandomForestClassifier\n",
    "from sklearn.tree import DecisionTreeClassifier, plot_tree\n",
    "from IPython.display import display\n",
    "from sklearn.preprocessing import LabelEncoder, OneHotEncoder\n",
    "from sklearn.model_selection import train_test_split\n",
    "from sklearn.linear_model import LogisticRegression, LinearRegression\n",
    "from sklearn.metrics import confusion_matrix, recall_score, precision_score, f1_score, accuracy_score\n",
    "import warnings; warnings.simplefilter(\"ignore\")"
   ]
  },
  {
   "cell_type": "markdown",
   "id": "6a6eb2e3-a234-451a-a44a-ba5f19144be0",
   "metadata": {},
   "source": [
    "Next I load the dataset and enumerate columns for visualization and feature selection. While there are many columns in the dataset, only a select few can be used prior to a game to make a prediction. These include: \n",
    "- The year of the game \n",
    "- The playoff game number (ex. game 1 of the series) \n",
    "- The location of the game (1 for home, 0 for away) \n",
    "- The number of rest days for each team\n",
    "- The time of the game\n",
    "- Each team's winning streak prior to the game\n",
    "- The number of injuries for each team\n",
    "- The significance of those injuries (biased feature)\n",
    "- A calculated difference between moving averages for each teams ranking (Overall Ranking)."
   ]
  },
  {
   "cell_type": "code",
   "execution_count": 27,
   "id": "b75c5f5c",
   "metadata": {},
   "outputs": [
    {
     "name": "stdout",
     "output_type": "stream",
     "text": [
      "0: Year\n",
      "1: game_num\n",
      "2: heat_top_3_pts\n",
      "3: opponent_top_3_pts\n",
      "4: heat_pts\n",
      "5: opponent_pts\n",
      "6: Spread\n",
      "7: heat_fg_perc\n",
      "8: opponent_fg_pct\n",
      "9: heat_3pt_perc\n",
      "10: opponent_3pt_perc\n",
      "11: heat_ft_perc\n",
      "12: opponent_ft_perc\n",
      "13: heat_off_reb\n",
      "14: opponent_off_reb\n",
      "15: heat_def_reb\n",
      "16: opponent_def_reb\n",
      "17: heat_assists\n",
      "18: opponent_assists\n",
      "19: heat_blocks\n",
      "20: opponent_blocks\n",
      "21: heat_steals\n",
      "22: opponent_steals\n",
      "23: heat_turnovers\n",
      "24: opponent_turnovers\n",
      "25: heat_pts_paint\n",
      "26: opponent_pts_paint\n",
      "27: heat_fouls\n",
      "28: opponent_fouls\n",
      "29: location\n",
      "30: heat_rest_days\n",
      "31: time\n",
      "32: opponent_rest_days\n",
      "33: heat_num_injuries\n",
      "34: heat_signif_injuries\n",
      "35: opponent_num_injuries\n",
      "36: opponent_signif_injuries\n",
      "37: heat_winning_streak\n",
      "38: opponent_winning_streak\n",
      "39: opponent\n",
      "40: win_rank\n",
      "41: pts_rank\n",
      "42: reb_rank\n",
      "43: ast_rank\n",
      "44: plus_minus_rank\n",
      "45: opponent_team_rank\n",
      "46: opp_mov_avg\n",
      "47: heat_win_rank\n",
      "48: heat_pts_rank\n",
      "49: heat_reb_rank\n",
      "50: heat_ast_rank\n",
      "51: heat_plus_minus_rank\n",
      "52: heat_team_rank\n",
      "53: heat_mov_avg\n",
      "54: diff_mov\n",
      "55: won\n",
      "56: game_1\n",
      "57: game_2\n",
      "58: game_3\n",
      "59: game_4\n",
      "60: game_5\n",
      "61: game_6\n",
      "62: game_7\n",
      "67\n"
     ]
    },
    {
     "data": {
      "text/html": [
       "<div>\n",
       "<style scoped>\n",
       "    .dataframe tbody tr th:only-of-type {\n",
       "        vertical-align: middle;\n",
       "    }\n",
       "\n",
       "    .dataframe tbody tr th {\n",
       "        vertical-align: top;\n",
       "    }\n",
       "\n",
       "    .dataframe thead th {\n",
       "        text-align: right;\n",
       "    }\n",
       "</style>\n",
       "<table border=\"1\" class=\"dataframe\">\n",
       "  <thead>\n",
       "    <tr style=\"text-align: right;\">\n",
       "      <th></th>\n",
       "      <th>Year</th>\n",
       "      <th>game_num</th>\n",
       "      <th>heat_top_3_pts</th>\n",
       "      <th>opponent_top_3_pts</th>\n",
       "      <th>heat_pts</th>\n",
       "      <th>opponent_pts</th>\n",
       "      <th>Spread</th>\n",
       "      <th>heat_fg_perc</th>\n",
       "      <th>opponent_fg_pct</th>\n",
       "      <th>heat_3pt_perc</th>\n",
       "      <th>...</th>\n",
       "      <th>heat_mov_avg</th>\n",
       "      <th>diff_mov</th>\n",
       "      <th>won</th>\n",
       "      <th>game_1</th>\n",
       "      <th>game_2</th>\n",
       "      <th>game_3</th>\n",
       "      <th>game_4</th>\n",
       "      <th>game_5</th>\n",
       "      <th>game_6</th>\n",
       "      <th>game_7</th>\n",
       "    </tr>\n",
       "  </thead>\n",
       "  <tbody>\n",
       "    <tr>\n",
       "      <th>0</th>\n",
       "      <td>2023</td>\n",
       "      <td>1</td>\n",
       "      <td>75</td>\n",
       "      <td>70</td>\n",
       "      <td>130</td>\n",
       "      <td>117</td>\n",
       "      <td>13</td>\n",
       "      <td>59.5</td>\n",
       "      <td>49.5</td>\n",
       "      <td>60.0</td>\n",
       "      <td>...</td>\n",
       "      <td>82.400000</td>\n",
       "      <td>-14.450000</td>\n",
       "      <td>1</td>\n",
       "      <td>1</td>\n",
       "      <td>0</td>\n",
       "      <td>0</td>\n",
       "      <td>0</td>\n",
       "      <td>0</td>\n",
       "      <td>0</td>\n",
       "      <td>0</td>\n",
       "    </tr>\n",
       "    <tr>\n",
       "      <th>1</th>\n",
       "      <td>2023</td>\n",
       "      <td>2</td>\n",
       "      <td>59</td>\n",
       "      <td>71</td>\n",
       "      <td>122</td>\n",
       "      <td>138</td>\n",
       "      <td>-16</td>\n",
       "      <td>53.6</td>\n",
       "      <td>53.5</td>\n",
       "      <td>44.4</td>\n",
       "      <td>...</td>\n",
       "      <td>90.300000</td>\n",
       "      <td>-6.575000</td>\n",
       "      <td>0</td>\n",
       "      <td>0</td>\n",
       "      <td>1</td>\n",
       "      <td>0</td>\n",
       "      <td>0</td>\n",
       "      <td>0</td>\n",
       "      <td>0</td>\n",
       "      <td>0</td>\n",
       "    </tr>\n",
       "    <tr>\n",
       "      <th>2</th>\n",
       "      <td>2023</td>\n",
       "      <td>3</td>\n",
       "      <td>65</td>\n",
       "      <td>56</td>\n",
       "      <td>121</td>\n",
       "      <td>99</td>\n",
       "      <td>22</td>\n",
       "      <td>53.6</td>\n",
       "      <td>44.7</td>\n",
       "      <td>48.5</td>\n",
       "      <td>...</td>\n",
       "      <td>92.216667</td>\n",
       "      <td>-4.583333</td>\n",
       "      <td>1</td>\n",
       "      <td>0</td>\n",
       "      <td>0</td>\n",
       "      <td>1</td>\n",
       "      <td>0</td>\n",
       "      <td>0</td>\n",
       "      <td>0</td>\n",
       "      <td>0</td>\n",
       "    </tr>\n",
       "    <tr>\n",
       "      <th>3</th>\n",
       "      <td>2023</td>\n",
       "      <td>4</td>\n",
       "      <td>83</td>\n",
       "      <td>76</td>\n",
       "      <td>119</td>\n",
       "      <td>114</td>\n",
       "      <td>5</td>\n",
       "      <td>49.4</td>\n",
       "      <td>43.3</td>\n",
       "      <td>40.6</td>\n",
       "      <td>...</td>\n",
       "      <td>93.287500</td>\n",
       "      <td>-2.875000</td>\n",
       "      <td>1</td>\n",
       "      <td>0</td>\n",
       "      <td>0</td>\n",
       "      <td>0</td>\n",
       "      <td>1</td>\n",
       "      <td>0</td>\n",
       "      <td>0</td>\n",
       "      <td>0</td>\n",
       "    </tr>\n",
       "    <tr>\n",
       "      <th>4</th>\n",
       "      <td>2023</td>\n",
       "      <td>5</td>\n",
       "      <td>84</td>\n",
       "      <td>89</td>\n",
       "      <td>128</td>\n",
       "      <td>126</td>\n",
       "      <td>2</td>\n",
       "      <td>45.5</td>\n",
       "      <td>46.2</td>\n",
       "      <td>37.8</td>\n",
       "      <td>...</td>\n",
       "      <td>94.010000</td>\n",
       "      <td>-1.760000</td>\n",
       "      <td>1</td>\n",
       "      <td>0</td>\n",
       "      <td>0</td>\n",
       "      <td>0</td>\n",
       "      <td>0</td>\n",
       "      <td>1</td>\n",
       "      <td>0</td>\n",
       "      <td>0</td>\n",
       "    </tr>\n",
       "  </tbody>\n",
       "</table>\n",
       "<p>5 rows × 63 columns</p>\n",
       "</div>"
      ],
      "text/plain": [
       "   Year  game_num  heat_top_3_pts  opponent_top_3_pts  heat_pts  opponent_pts  \\\n",
       "0  2023         1              75                  70       130           117   \n",
       "1  2023         2              59                  71       122           138   \n",
       "2  2023         3              65                  56       121            99   \n",
       "3  2023         4              83                  76       119           114   \n",
       "4  2023         5              84                  89       128           126   \n",
       "\n",
       "   Spread  heat_fg_perc  opponent_fg_pct  heat_3pt_perc  ...  heat_mov_avg  \\\n",
       "0      13          59.5             49.5           60.0  ...     82.400000   \n",
       "1     -16          53.6             53.5           44.4  ...     90.300000   \n",
       "2      22          53.6             44.7           48.5  ...     92.216667   \n",
       "3       5          49.4             43.3           40.6  ...     93.287500   \n",
       "4       2          45.5             46.2           37.8  ...     94.010000   \n",
       "\n",
       "    diff_mov  won  game_1  game_2  game_3  game_4  game_5  game_6  game_7  \n",
       "0 -14.450000    1       1       0       0       0       0       0       0  \n",
       "1  -6.575000    0       0       1       0       0       0       0       0  \n",
       "2  -4.583333    1       0       0       1       0       0       0       0  \n",
       "3  -2.875000    1       0       0       0       1       0       0       0  \n",
       "4  -1.760000    1       0       0       0       0       1       0       0  \n",
       "\n",
       "[5 rows x 63 columns]"
      ]
     },
     "metadata": {},
     "output_type": "display_data"
    }
   ],
   "source": [
    "df = pd.read_csv(\"Miami_Heat_Playoff_Data_csv.csv\")\n",
    "\n",
    "game_num_encoded = pd.get_dummies(df[\"game_num\"], prefix=\"game\")\n",
    "\n",
    "# Add the encoded columns to the original DataFrame\n",
    "df = pd.concat([df, game_num_encoded], axis=1)\n",
    "\n",
    "\n",
    "for i, col in enumerate(df.columns):\n",
    "    print(f\"{i}: {col}\")\n",
    "    \n",
    "print(len(df))\n",
    "display(df.head())"
   ]
  },
  {
   "cell_type": "markdown",
   "id": "87e9858d-c147-4b89-9af2-82c5731a2bd2",
   "metadata": {},
   "source": [
    "The First model I train is a Logistic Regression Model and obtains an accuracy of approx. 0.62."
   ]
  },
  {
   "cell_type": "code",
   "execution_count": 100,
   "id": "6dba406f",
   "metadata": {},
   "outputs": [
    {
     "name": "stdout",
     "output_type": "stream",
     "text": [
      "Accuracy Score:  0.625\n",
      "Confusion Matrix: \n",
      " [[ 5  5]\n",
      " [ 4 10]]\n",
      "F1 Score:  0.689655172413793\n",
      "Recall Score:  0.7142857142857143\n",
      "Precision Score:  0.6666666666666666\n",
      "game prediction:win\n",
      "[[0.41514959 0.58485041]]\n"
     ]
    }
   ],
   "source": [
    "\n",
    "y = df.won\n",
    "known_x = df[[\"location\", \"Year\", \"time\", \"heat_rest_days\", \"opponent_rest_days\", \"heat_num_injuries\", \"heat_signif_injuries\", \"opponent_num_injuries\", \"opponent_signif_injuries\", \"heat_winning_streak\", \"opponent_winning_streak\", \"diff_mov\"]]\n",
    "X_train, X_test, y_train, y_test = train_test_split(known_x, y, test_size = 0.35, random_state = 1)\n",
    "\n",
    "\n",
    "lr1 = LogisticRegression(max_iter = 10000)\n",
    "lr1.fit(X_train, y_train)\n",
    "y_pred = lr1.predict(X_test)\n",
    "\n",
    "print(\"Accuracy Score: \", lr1.score(X_test, y_test))\n",
    "print(\"Confusion Matrix: \\n\", confusion_matrix(y_test, y_pred))\n",
    "print(\"F1 Score: \", f1_score(y_test, y_pred))\n",
    "print(\"Recall Score: \", recall_score(y_test, y_pred))\n",
    "print(\"Precision Score: \", precision_score(y_test, y_pred))\n",
    "\n",
    "inputs = [[0, 2023, 8.5, 2, 2, 1, 1, 0, 0, 1, 7, 2.1]]\n",
    "predicted_outcome = lr1.predict(inputs)\n",
    "if predicted_outcome == 1:\n",
    "    predicted_outcome = \"win\"\n",
    "else:\n",
    "    predicted_outcome = \"lose\"\n",
    "\n",
    "print(\"game prediction:\" + f\"{predicted_outcome}\")\n",
    "print(lr1.predict_proba(inputs))\n"
   ]
  },
  {
   "cell_type": "markdown",
   "id": "3a6fbd89-5fdc-417e-a7fa-9db60df96a08",
   "metadata": {},
   "source": [
    "Now we can use Recursive Feature Elimination to find which features account for 95% of the variability of the target variable (Aims to improve accuracy of the model)."
   ]
  },
  {
   "cell_type": "code",
   "execution_count": 81,
   "id": "a72a5659-cd26-498b-8992-bab70473d565",
   "metadata": {},
   "outputs": [
    {
     "name": "stdout",
     "output_type": "stream",
     "text": [
      "the achieved variability on the selected features: 0.5833333333333334\n",
      "[ True False False  True False False False  True  True  True False  True]\n"
     ]
    }
   ],
   "source": [
    "rfe = RFE(estimator = lr1)\n",
    "\n",
    "rfe.fit(X_train, y_train)\n",
    "\n",
    "num_features = sum(rfe.support_)\n",
    "print(f\"the achieved variability on the selected features: {rfe.score(X_test, y_test)}\")\n",
    "print(rfe.support_)"
   ]
  },
  {
   "cell_type": "markdown",
   "id": "7e492d5f-302a-4fea-8a3a-e395d6245fe3",
   "metadata": {},
   "source": [
    "## The features that will maximize accuracy:\n",
    "1. Location\n",
    "2. Number of rest days for Heat\n",
    "3. Number of rest days for the Opponent\n",
    "4. Opponent's number of injuries\n",
    "5. The Miami Heat's winning streak prior to the game\n",
    "6. The difference in overall ranking for each team (diff_mov)"
   ]
  },
  {
   "cell_type": "code",
   "execution_count": 72,
   "id": "5b69ff21-c25a-426f-9dd7-4cece05822a6",
   "metadata": {},
   "outputs": [
    {
     "name": "stdout",
     "output_type": "stream",
     "text": [
      "Accuracy Score:  0.625\n",
      "Confusion Matrix: \n",
      " [[ 5  5]\n",
      " [ 4 10]]\n",
      "F1 Score:  0.689655172413793\n",
      "Recall Score:  0.7142857142857143\n",
      "Precision Score:  0.6666666666666666\n",
      "game prediction:win\n",
      "[[0.49818698 0.50181302]]\n"
     ]
    }
   ],
   "source": [
    "\n",
    "y = df.won\n",
    "known_x = df[[\"location\", \"heat_rest_days\", \"opponent_rest_days\", \"opponent_num_injuries\", \"heat_winning_streak\", \"diff_mov\"]]\n",
    "X_train, X_test, y_train, y_test = train_test_split(known_x, y, test_size = 0.35, random_state = 1)\n",
    "\n",
    "\n",
    "lr1 = LogisticRegression(max_iter = 10000)\n",
    "lr1.fit(X_train, y_train)\n",
    "y_pred = lr1.predict(X_test)\n",
    "\n",
    "print(\"Accuracy Score: \", lr1.score(X_test, y_test))\n",
    "print(\"Confusion Matrix: \\n\", confusion_matrix(y_test, y_pred))\n",
    "print(\"F1 Score: \", f1_score(y_test, y_pred))\n",
    "print(\"Recall Score: \", recall_score(y_test, y_pred))\n",
    "print(\"Precision Score: \", precision_score(y_test, y_pred))\n",
    "\n",
    "inputs = [[0, 2, 2, 1, 2, 2.1]]\n",
    "predicted_outcome = lr1.predict(inputs)\n",
    "if predicted_outcome == 1:\n",
    "    predicted_outcome = \"win\"\n",
    "else:\n",
    "    predicted_outcome = \"lose\"\n",
    "\n",
    "print(\"game prediction:\" + f\"{predicted_outcome}\")\n",
    "print(lr1.predict_proba(inputs))\n"
   ]
  },
  {
   "cell_type": "markdown",
   "id": "52800bca-d07b-44b3-a3f4-8f872860097a",
   "metadata": {},
   "source": [
    "The Next Model is a Decision Tree Classifier with an accuracy of approx 0.5. It is nice to have multiple models to base predictions on."
   ]
  },
  {
   "cell_type": "code",
   "execution_count": 86,
   "id": "4af9d682-a6ea-4034-9bec-5c666386bed8",
   "metadata": {},
   "outputs": [
    {
     "name": "stdout",
     "output_type": "stream",
     "text": [
      "game prediction:lose\n",
      "Accuracy Score:  0.5\n",
      "Confusion Matrix: \n",
      " [[8 5]\n",
      " [7 4]]\n",
      "F1 Score:  0.39999999999999997\n",
      "Recall Score:  0.36363636363636365\n",
      "Precision Score:  0.4444444444444444\n"
     ]
    }
   ],
   "source": [
    "known_x_dt = df[[\"location\", \"Year\", \"time\", \"heat_rest_days\", \"opponent_rest_days\", \"heat_num_injuries\", \"heat_signif_injuries\", \"opponent_num_injuries\", \"opponent_signif_injuries\", \"heat_winning_streak\", \"opponent_winning_streak\",  \"diff_mov\"]]\n",
    "X_train, X_test, y_train, y_test = train_test_split(known_x_dt, y, test_size = 0.35, random_state = 42)\n",
    "\n",
    "\n",
    "dtc_inputs = [[0,2023, 8.5, 3, 3, 1, 1, 0, 0, 1, 7, -3.1]]\n",
    "dtc = DecisionTreeClassifier(max_depth = 4)\n",
    "dtc.fit(X_train, y_train)\n",
    "y_pred1 = dtc.predict(X_test)\n",
    "\n",
    "predicted_outcome = dtc.predict(dtc_inputs)\n",
    "predicted_outcome = dtc.predict(dtc_inputs)\n",
    "if predicted_outcome == 1:\n",
    "    predicted_outcome = \"win\"\n",
    "else:\n",
    "    predicted_outcome = \"lose\"\n",
    "\n",
    "print(\"game prediction:\" + f\"{predicted_outcome}\")\n",
    "\n",
    "\n",
    "\n",
    "\n",
    "print(\"Accuracy Score: \", dtc.score(X_test, y_test))\n",
    "print(\"Confusion Matrix: \\n\", confusion_matrix(y_test, y_pred1))\n",
    "print(\"F1 Score: \", f1_score(y_test, y_pred1))\n",
    "print(\"Recall Score: \", recall_score(y_test, y_pred1))\n",
    "print(\"Precision Score: \", precision_score(y_test, y_pred1))"
   ]
  },
  {
   "cell_type": "markdown",
   "id": "293ff324-540f-4122-8d0f-287e277ef85e",
   "metadata": {},
   "source": [
    "We can once again use Recursive Feature Elimination to choose the best features."
   ]
  },
  {
   "cell_type": "code",
   "execution_count": 85,
   "id": "2537e907-44ea-42f1-b999-a00f8dcd12cb",
   "metadata": {},
   "outputs": [
    {
     "name": "stdout",
     "output_type": "stream",
     "text": [
      "[False False  True False False  True  True False False  True  True  True]\n",
      "6\n"
     ]
    }
   ],
   "source": [
    "rfe = RFE(estimator = dtc)\n",
    "\n",
    "rfe.fit(X_train, y_train)\n",
    "\n",
    "num_features = sum(rfe.support_)\n",
    "print(rfe.support_)\n",
    "print(num_features)"
   ]
  },
  {
   "cell_type": "markdown",
   "id": "9fd7434e-7cd5-467d-ac03-79cae9ce5c50",
   "metadata": {},
   "source": [
    "\n",
    "## Most important Features to decision tree:\n",
    "\n",
    "1. Time of the game\n",
    "2. Heat number of injuries before the game\n",
    "3. Heat significance of injuries before the game\n",
    "4. Heat's winning streak\n",
    "5. The Opponent's winning streak\n",
    "6. The difference in overall ranking (diff_mov)"
   ]
  },
  {
   "cell_type": "code",
   "execution_count": 90,
   "id": "77240a19-6650-47cf-a91b-68eaa4413765",
   "metadata": {},
   "outputs": [
    {
     "name": "stdout",
     "output_type": "stream",
     "text": [
      "game prediction:lose\n",
      "Accuracy Score:  0.47619047619047616\n",
      "Confusion Matrix: \n",
      " [[ 1 10]\n",
      " [ 1  9]]\n",
      "F1 Score:  0.6206896551724138\n",
      "Recall Score:  0.9\n",
      "Precision Score:  0.47368421052631576\n"
     ]
    }
   ],
   "source": [
    "known_x_dt = df[[\"time\", \"heat_num_injuries\", \"heat_signif_injuries\", \"heat_winning_streak\", \"opponent_winning_streak\",  \"diff_mov\"]]\n",
    "X_train, X_test, y_train, y_test = train_test_split(known_x_dt, y, test_size = 0.3, random_state = 42)\n",
    "\n",
    "\n",
    "dtc_inputs = [[8.5, 1, 1, 2, 1, -3.1]]\n",
    "dtc = DecisionTreeClassifier(max_depth = 3)\n",
    "dtc.fit(X_train, y_train)\n",
    "y_pred1 = dtc.predict(X_test)\n",
    "\n",
    "predicted_outcome = dtc.predict(dtc_inputs)\n",
    "predicted_outcome = dtc.predict(dtc_inputs)\n",
    "if predicted_outcome == 1:\n",
    "    predicted_outcome = \"win\"\n",
    "else:\n",
    "    predicted_outcome = \"lose\"\n",
    "\n",
    "print(\"game prediction:\" + f\"{predicted_outcome}\")\n",
    "\n",
    "\n",
    "\n",
    "\n",
    "print(\"Accuracy Score: \", dtc.score(X_test, y_test))\n",
    "print(\"Confusion Matrix: \\n\", confusion_matrix(y_test, y_pred1))\n",
    "print(\"F1 Score: \", f1_score(y_test, y_pred1))\n",
    "print(\"Recall Score: \", recall_score(y_test, y_pred1))\n",
    "print(\"Precision Score: \", precision_score(y_test, y_pred1))"
   ]
  },
  {
   "cell_type": "markdown",
   "id": "f98f8925-f538-4a2c-a174-dcf5868c8ec3",
   "metadata": {},
   "source": [
    "- Due to the low accuracy score, the Decision Tree Classifier Model should not be used to make predictions"
   ]
  },
  {
   "cell_type": "code",
   "execution_count": 92,
   "id": "bcd784ce-e04f-402a-9315-9ceac494960f",
   "metadata": {},
   "outputs": [
    {
     "data": {
      "image/png": "[encoded data removed]",
      "text/plain": [
       "<Figure size 1000x800 with 1 Axes>"
      ]
     },
     "metadata": {},
     "output_type": "display_data"
    }
   ],
   "source": [
    "plt.figure(figsize=(10, 8))\n",
    "plot_tree(dtc, filled=True, feature_names=X_train.columns, class_names=[\"Lose\", \"Win\"])\n",
    "plt.show()"
   ]
  },
  {
   "cell_type": "markdown",
   "id": "1385c798-76bb-46fb-bb67-349e03f34e40",
   "metadata": {},
   "source": [
    "We can however, test a random forest classifier to attempt to improve the accuracy of the decision tree model"
   ]
  },
  {
   "cell_type": "code",
   "execution_count": 99,
   "id": "174abaa7-ed87-46bf-b04a-a3aa625c2648",
   "metadata": {},
   "outputs": [
    {
     "name": "stdout",
     "output_type": "stream",
     "text": [
      "Accuracy: 0.6190476190476191\n",
      "game prediction:lose\n",
      "Confusion Matrix: \n",
      " [[6 5]\n",
      " [3 7]]\n",
      "F1 Score:  0.6363636363636365\n",
      "Recall Score:  0.7\n",
      "Precision Score:  0.5833333333333334\n"
     ]
    }
   ],
   "source": [
    "from sklearn.ensemble import RandomForestClassifier\n",
    "from sklearn.tree import DecisionTreeClassifier\n",
    "\n",
    "\n",
    "\n",
    "# Create the random forest classifier with the decision tree classifier as the base estimator\n",
    "rfc = RandomForestClassifier(n_estimators=5, max_depth = 3, random_state = 10)\n",
    "\n",
    "# Train the random forest classifier\n",
    "rfc.fit(X_train, y_train)\n",
    "\n",
    "# Make predictions on the test set\n",
    "y_pred2 = rfc.predict(X_test)\n",
    "\n",
    "# Calculate accuracy\n",
    "accuracy = accuracy_score(y_test, y_pred2)\n",
    "print(\"Accuracy:\", accuracy)\n",
    "\n",
    "\n",
    "predicted_outcome = rfc.predict(dtc_inputs)\n",
    "predicted_outcome = rfc.predict(dtc_inputs)\n",
    "if predicted_outcome == 1:\n",
    "    predicted_outcome = \"win\"\n",
    "else:\n",
    "    predicted_outcome = \"lose\"\n",
    "\n",
    "print(\"game prediction:\" + f\"{predicted_outcome}\")\n",
    "y_pred2 = rfc.predict(X_test)\n",
    "\n",
    "\n",
    "print(\"Confusion Matrix: \\n\", confusion_matrix(y_test, y_pred2))\n",
    "print(\"F1 Score: \", f1_score(y_test, y_pred2))\n",
    "print(\"Recall Score: \", recall_score(y_test, y_pred2))\n",
    "print(\"Precision Score: \", precision_score(y_test, y_pred2))"
   ]
  },
  {
   "cell_type": "markdown",
   "id": "8da1b285-8c3d-4a14-99aa-b3628883f3ac",
   "metadata": {},
   "source": [
    "- Granted that predicting the outcomes of professional sports games is a very challenging task, the models that can be used for this dataset are:\n",
    "1. Logistic Regression Model (accuracy score: 0.625)\n",
    "2. Random Forest Classifier (accuracy score: 0.619)"
   ]
  },
  {
   "cell_type": "code",
   "execution_count": null,
   "id": "8ea7f30d-5c60-4320-90f2-0a5eb31a9269",
   "metadata": {},
   "outputs": [],
   "source": []
  }
 ],
 "metadata": {
  "kernelspec": {
   "display_name": "Python 3 (ipykernel)",
   "language": "python",
   "name": "python3"
  },
  "language_info": {
   "codemirror_mode": {
    "name": "ipython",
    "version": 3
   },
   "file_extension": ".py",
   "mimetype": "text/x-python",
   "name": "python",
   "nbconvert_exporter": "python",
   "pygments_lexer": "ipython3",
   "version": "3.9.13"
  }
 },
 "nbformat": 4,
 "nbformat_minor": 5
}
