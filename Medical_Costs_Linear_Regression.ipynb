{
 "cells": [
  {
   "cell_type": "markdown",
   "id": "74da62ca-4eee-42b0-8b80-f169f32796d4",
   "metadata": {},
   "source": [
    "# Multiple Linear Regression on Insurance Costs"
   ]
  },
  {
   "cell_type": "code",
   "execution_count": 1,
   "id": "9b681825-7f37-4b3b-957e-1e6049203e30",
   "metadata": {},
   "outputs": [],
   "source": [
    "import pandas as pd\n",
    "import numpy as np\n",
    "import matplotlib.pyplot as plt\n",
    "from sklearn.linear_model import LinearRegression\n",
    "from sklearn.model_selection import train_test_split\n",
    "from sklearn.preprocessing import StandardScaler\n",
    "from sklearn.feature_selection import RFE\n",
    "from sklearn.preprocessing import LabelEncoder\n",
    "from sklearn.metrics import accuracy_score\n",
    "import warnings; warnings.simplefilter(\"ignore\")"
   ]
  },
  {
   "cell_type": "code",
   "execution_count": 2,
   "id": "7f3a8d97-067c-4d99-9e31-1a48ac54a4b6",
   "metadata": {},
   "outputs": [
    {
     "name": "stdout",
     "output_type": "stream",
     "text": [
      "   age     sex     bmi  children smoker     region      charges\n",
      "0   19  female  27.900         0    yes  southwest  16884.92400\n",
      "1   18    male  33.770         1     no  southeast   1725.55230\n",
      "2   28    male  33.000         3     no  southeast   4449.46200\n",
      "3   33    male  22.705         0     no  northwest  21984.47061\n",
      "4   32    male  28.880         0     no  northwest   3866.85520\n",
      "Length of dataset: 1338\n",
      "Median Insurance Cost: $ 9382.033\n"
     ]
    }
   ],
   "source": [
    "ins = pd.read_csv(\"insurance (1).csv\")\n",
    "print(ins.head())\n",
    "print(f\"Length of dataset: {len(ins)}\")\n",
    "print(f\"Median Insurance Cost: $ {np.median(ins.charges)}\")"
   ]
  },
  {
   "cell_type": "code",
   "execution_count": 3,
   "id": "26981125-b3af-41eb-8104-b436e7a9c4ee",
   "metadata": {},
   "outputs": [
    {
     "data": {
      "image/png": "[encoded data removed]",
      "text/plain": [
       "<Figure size 640x480 with 1 Axes>"
      ]
     },
     "metadata": {},
     "output_type": "display_data"
    }
   ],
   "source": [
    "fig, ax = plt.subplots()\n",
    "\n",
    "ax.hist(ins.charges, color = \"green\", edgecolor = \"black\", bins = 20)\n",
    "ax.set_xlabel(\"Cost of Insurance ($) per Person\")\n",
    "ax.set_xticklabels([\" \", \"0\", \"10K\", \"20K\", \"30K\", \"40K\", \"50K\", \"60K\"])\n",
    "ax.axvline(np.median(ins.charges), color = \"r\", linestyle = \"--\")\n",
    "ax.legend([\"Median Insurance Cost: $ 9,382.03\"])\n",
    "ax.set_ylabel(\"Count\")\n",
    "ax.set_title(\"Histogram of Insurance Costs ($)\", fontweight = \"bold\")\n",
    "plt.show()"
   ]
  },
  {
   "cell_type": "markdown",
   "id": "0fa23ed9-52e1-475e-bcc3-ba1e4ae80458",
   "metadata": {},
   "source": [
    "First I need to encode the categorical variables into numerical form for regression"
   ]
  },
  {
   "cell_type": "code",
   "execution_count": 11,
   "id": "8034c9f5-a019-4c92-b492-38f7d5603948",
   "metadata": {},
   "outputs": [
    {
     "name": "stdout",
     "output_type": "stream",
     "text": [
      "   age     sex     bmi  children smoker     region      charges  sex_encoded  \\\n",
      "0   19  female  27.900         0    yes  southwest  16884.92400            0   \n",
      "1   18    male  33.770         1     no  southeast   1725.55230            1   \n",
      "2   28    male  33.000         3     no  southeast   4449.46200            1   \n",
      "3   33    male  22.705         0     no  northwest  21984.47061            1   \n",
      "4   32    male  28.880         0     no  northwest   3866.85520            1   \n",
      "5   31  female  25.740         0     no  southeast   3756.62160            0   \n",
      "6   46  female  33.440         1     no  southeast   8240.58960            0   \n",
      "7   37  female  27.740         3     no  northwest   7281.50560            0   \n",
      "8   37    male  29.830         2     no  northeast   6406.41070            1   \n",
      "9   60  female  25.840         0     no  northwest  28923.13692            0   \n",
      "\n",
      "   smoker_encoded  region_encoded  \n",
      "0               1               3  \n",
      "1               0               2  \n",
      "2               0               2  \n",
      "3               0               1  \n",
      "4               0               1  \n",
      "5               0               2  \n",
      "6               0               2  \n",
      "7               0               1  \n",
      "8               0               0  \n",
      "9               0               1  \n"
     ]
    }
   ],
   "source": [
    "label = LabelEncoder()\n",
    "\n",
    "ins[\"sex_encoded\"] = label.fit_transform(ins.sex)\n",
    "ins[\"smoker_encoded\"] = label.fit_transform(ins.smoker)\n",
    "ins[\"region_encoded\"] = label.fit_transform(ins.region)\n",
    "\n",
    "print(ins.head(10))"
   ]
  },
  {
   "cell_type": "markdown",
   "id": "1b2cc32c-d3d4-4604-96a6-2d8681b0c54d",
   "metadata": {},
   "source": [
    "Next I train the model:\n",
    "\n",
    "- charges feature as the variable being tested\n",
    "- all other features serving as predictors"
   ]
  },
  {
   "cell_type": "code",
   "execution_count": 5,
   "id": "8ed80b13-256a-4bcc-b459-a22fb0d678f5",
   "metadata": {},
   "outputs": [
    {
     "data": {
      "text/plain": [
       "0.7942462599118463"
      ]
     },
     "execution_count": 5,
     "metadata": {},
     "output_type": "execute_result"
    }
   ],
   "source": [
    "x = ins[[\"age\", \"sex_encoded\", \"bmi\", \"children\", \"smoker_encoded\", \"region_encoded\"]]\n",
    "y = ins.charges\n",
    "\n",
    "x_train, x_test, y_train, y_test = train_test_split(x, y, test_size = 0.2, random_state = 100)\n",
    "\n",
    "lm = LinearRegression()\n",
    "\n",
    "lm.fit(x_train, y_train)\n",
    "\n",
    "lm.score(x_test, y_test)"
   ]
  },
  {
   "cell_type": "markdown",
   "id": "a9f55fc2-3bf5-431b-9811-9a78e600667d",
   "metadata": {},
   "source": [
    "R Squared of 0.794 proves a strong linear relationship between the test set. Next we can use Recursive Feature Elimination to attempt to improve accuracy further"
   ]
  },
  {
   "cell_type": "code",
   "execution_count": 6,
   "id": "00c035d0-ffce-495b-a6a1-1ae389393041",
   "metadata": {},
   "outputs": [
    {
     "name": "stdout",
     "output_type": "stream",
     "text": [
      "Column 0: age\n",
      "Column 1: sex_encoded\n",
      "Column 2: bmi\n",
      "Column 3: children\n",
      "Column 4: smoker_encoded\n",
      "Column 5: region_encoded\n",
      "[1 2 1 1 1 1]\n",
      "[ True False  True  True  True  True]\n"
     ]
    }
   ],
   "source": [
    "rfe = RFE(lm, n_features_to_select = 5)\n",
    "\n",
    "rfe.fit(x, y)\n",
    "for i, col in enumerate(x.columns):\n",
    "    print(f\"Column {i}: {col}\")\n",
    "print(rfe.ranking_)\n",
    "print(rfe.support_)"
   ]
  },
  {
   "cell_type": "code",
   "execution_count": 7,
   "id": "79399a01-7b8c-4feb-9fa2-01c430a0e5bc",
   "metadata": {},
   "outputs": [
    {
     "data": {
      "text/plain": [
       "0.7942746346066889"
      ]
     },
     "execution_count": 7,
     "metadata": {},
     "output_type": "execute_result"
    }
   ],
   "source": [
    "x1 = ins[[\"bmi\", \"children\", \"smoker_encoded\", \"region_encoded\", \"age\"]]\n",
    "\n",
    "x_train, x_test, y_train, y_test = train_test_split(x1, y, test_size = 0.2, random_state = 100)\n",
    "\n",
    "lm = LinearRegression()\n",
    "\n",
    "lm.fit(x_train, y_train)\n",
    "\n",
    "lm.score(x_test, y_test)"
   ]
  },
  {
   "cell_type": "markdown",
   "id": "03642480-4abe-4567-be0c-ceae89941e51",
   "metadata": {},
   "source": [
    "0.794 is our maximum accuracy with 5 features selected"
   ]
  },
  {
   "cell_type": "code",
   "execution_count": 8,
   "id": "92ea2360-dbc4-48d7-aed6-33cfedf372c0",
   "metadata": {},
   "outputs": [],
   "source": [
    "coef = lm.coef_\n",
    "intercept = lm.intercept_"
   ]
  },
  {
   "cell_type": "markdown",
   "id": "717d0076-699a-4b4b-b503-db8c555c41d5",
   "metadata": {},
   "source": [
    "Now we can make Predictions!"
   ]
  },
  {
   "cell_type": "code",
   "execution_count": null,
   "id": "1c9cc719-1af6-4c02-a542-a3567df2a519",
   "metadata": {},
   "outputs": [
    {
     "name": "stdin",
     "output_type": "stream",
     "text": [
      "Welcome to Insurance Cost Calculator! Enter BMI or enter 100 to quit application 23\n",
      "Enter number of Children:  2\n",
      "Are you a Smoker? ('yes'/'no'):  yes\n",
      "What Region are you located? (southwest/southeast/northwest/northeast):  southwest\n",
      "Enter Age:  24\n"
     ]
    },
    {
     "name": "stdout",
     "output_type": "stream",
     "text": [
      "Your predicted Cost of Insurance is $ 25,409.47.\n"
     ]
    }
   ],
   "source": [
    "while True:\n",
    "    bmi = int(input(\"Welcome to Insurance Cost Calculator! Enter BMI or enter 100 to quit application\"))\n",
    "    if bmi == 100:\n",
    "        break\n",
    "    children = int(input(\"Enter number of Children: \"))\n",
    "    smoker = input(\"Are you a Smoker? ('yes'/'no'): \")\n",
    "    if smoker == \"yes\":\n",
    "        smoker = 1\n",
    "    elif smoker == \"no\":\n",
    "        smoker = 0\n",
    "    else:\n",
    "        print(\"An Error occured\")\n",
    "        continue\n",
    "    region = input(\"What Region are you located? (southwest/southeast/northwest/northeast): \")\n",
    "    if region == \"northeast\":\n",
    "        region = 0\n",
    "    elif region == \"northwest\":\n",
    "        region = 1\n",
    "    elif region == \"southeast\":\n",
    "        region = 2\n",
    "    elif region == \"southwest\":\n",
    "        region = 3\n",
    "    else:\n",
    "        print(\"An Error occured\")\n",
    "        continue\n",
    "    age = int(input(\"Enter Age: \"))\n",
    "    \n",
    "    prediction = lm.predict([[bmi, children, smoker, region, age]])\n",
    "    \n",
    "    if prediction:\n",
    "        format_pred = '{:,.2f}'.format(prediction[0])\n",
    "        print(f\"Your predicted Cost of Insurance is $ {format_pred}.\")\n",
    "    else:\n",
    "        print(\"An Error occured\")\n",
    "    "
   ]
  }
 ],
 "metadata": {
  "kernelspec": {
   "display_name": "Python 3 (ipykernel)",
   "language": "python",
   "name": "python3"
  },
  "language_info": {
   "codemirror_mode": {
    "name": "ipython",
    "version": 3
   },
   "file_extension": ".py",
   "mimetype": "text/x-python",
   "name": "python",
   "nbconvert_exporter": "python",
   "pygments_lexer": "ipython3",
   "version": "3.9.13"
  }
 },
 "nbformat": 4,
 "nbformat_minor": 5
}
